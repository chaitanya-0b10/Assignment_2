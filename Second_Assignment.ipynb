{
 "cells": [
  {
   "cell_type": "markdown",
   "id": "c58d287c-ca22-40ae-8031-155cef423c6f",
   "metadata": {},
   "source": [
    "#                          Assignment : Python - Data Structure"
   ]
  },
  {
   "cell_type": "markdown",
   "id": "006068ba-197b-4832-a691-d43135e33df8",
   "metadata": {},
   "source": [
    "### Q1)Discuss string slicing and provide examples"
   ]
  },
  {
   "cell_type": "code",
   "execution_count": 2,
   "id": "f1e0a6ce-cfc5-4944-899b-e7bbb50124b7",
   "metadata": {},
   "outputs": [
    {
     "name": "stdout",
     "output_type": "stream",
     "text": [
      "Hello\n",
      "World\n",
      "!dlroW ,olleH\n"
     ]
    }
   ],
   "source": [
    "'''String slicing in Python allows you to extract parts of a string using a specified range of indices.\n",
    "\n",
    "string[start:stop:step]'''\n",
    "\n",
    "text = \"Hello, World!\"\n",
    "print(text[0:5])  \n",
    "print(text[7:12]) \n",
    "print(text[::-1])\n"
   ]
  },
  {
   "cell_type": "code",
   "execution_count": null,
   "id": "cde089a4-cf57-420a-a023-5f696b5bb5e0",
   "metadata": {},
   "outputs": [],
   "source": []
  },
  {
   "cell_type": "markdown",
   "id": "581897f4-642e-4faa-8bb1-c530f317bd3d",
   "metadata": {},
   "source": [
    "###  Q2)Explain the key features of list in python"
   ]
  },
  {
   "cell_type": "code",
   "execution_count": 3,
   "id": "cf9503c1-1ef6-41a1-bbf9-cd2783dae956",
   "metadata": {},
   "outputs": [
    {
     "name": "stdout",
     "output_type": "stream",
     "text": [
      "[1, 4, 3]\n",
      "4\n"
     ]
    }
   ],
   "source": [
    "'''\n",
    " Ordered: Elements maintain their insertion order.\n",
    " Mutable: You can change the content of a list.\n",
    " Heterogeneous: Lists can contain different data types.\n",
    " Indexing and Slicing: Access elements and sublists easily.\n",
    " Comprehensions: Create lists concisely with list comprehensions.\n",
    " Iteration: Easily loop through elements.\n",
    "'''\n",
    "\n",
    "lis = [1, 2, 3]\n",
    "lis[1] = 4\n",
    "print(lis)\n",
    "print(lis[1])\n"
   ]
  },
  {
   "cell_type": "markdown",
   "id": "a9a375c2-b6d8-497d-b0b2-365cfa1e4993",
   "metadata": {},
   "source": [
    "### Q3) Describe how to access modify and delete elements in a list with examples"
   ]
  },
  {
   "cell_type": "code",
   "execution_count": 6,
   "id": "dda0c24c-eff8-496c-937f-86a98a96592d",
   "metadata": {},
   "outputs": [
    {
     "name": "stdout",
     "output_type": "stream",
     "text": [
      "10\n",
      "[10, 25, 30]\n",
      "[10, 25]\n"
     ]
    }
   ],
   "source": [
    "# element can access using index\n",
    "li = [10, 20, 30]\n",
    "print(li[0])  \n",
    "\n",
    "# modify using index assining\n",
    "li[1] = 25\n",
    "print(li)\n",
    "\n",
    "# delete  using remove() method\n",
    "li.remove(30)\n",
    "print(li)  \n"
   ]
  },
  {
   "cell_type": "markdown",
   "id": "79df1fee-a976-44e8-85c0-cec3d681890f",
   "metadata": {},
   "source": [
    "### Q4)Compare and contrast tuple and list with example"
   ]
  },
  {
   "cell_type": "code",
   "execution_count": 4,
   "id": "3ba83584-bc7f-480a-8690-ad1712d9877f",
   "metadata": {},
   "outputs": [
    {
     "name": "stdout",
     "output_type": "stream",
     "text": [
      "Original list: [1, 2, 3]\n",
      "Modified list: [1, 4, 3]\n",
      "Original tuple: (1, 2, 3)\n"
     ]
    }
   ],
   "source": [
    "# List Example\n",
    "li = [1, 2, 3]\n",
    "print(\"Original list:\", li)\n",
    "\n",
    "# Modifying the list\n",
    "li[1] = 4\n",
    "print(\"Modified list:\", li)\n",
    "\n",
    "# Tuple Example\n",
    "tup = (1, 2, 3)\n",
    "print(\"Original tuple:\", tup)"
   ]
  },
  {
   "cell_type": "code",
   "execution_count": null,
   "id": "08ba2e29-3f29-4a61-b868-6d71406e1e44",
   "metadata": {},
   "outputs": [],
   "source": []
  },
  {
   "cell_type": "markdown",
   "id": "fee23402-18d7-4cc7-9a0e-27ffbe8da654",
   "metadata": {},
   "source": [
    "### Q5)Describe the key features of set and provide examples of their use"
   ]
  },
  {
   "cell_type": "code",
   "execution_count": 8,
   "id": "9d7f8d87-5f6d-437e-a12a-2db64cc5bb21",
   "metadata": {},
   "outputs": [
    {
     "name": "stdout",
     "output_type": "stream",
     "text": [
      "{1, 2, 3, 4}\n",
      "{1, 2, 3, 4, 5}\n",
      "{1, 2, 4, 5}\n"
     ]
    }
   ],
   "source": [
    "'''\n",
    "Unordered: Elements have no specific order.\n",
    "Unique Elements: No duplicates allowed.\n",
    "No Indexing: Cannot access elements by index\n",
    "'''\n",
    "\n",
    "# unordered and unique \n",
    "my_set = {3, 1, 4, 2, 2, 3}\n",
    "print(my_set)  \n",
    "\n",
    "# Adding an element\n",
    "my_set.add(5)\n",
    "print(my_set)  # Output: {1, 2, 3, 4, 5}\n",
    "\n",
    "# Removing an element\n",
    "my_set.remove(3)\n",
    "print(my_set)  # Output: {1, 2, 4, 5}\n",
    "\n",
    "# No indexing\n",
    "# print(my_set[0])  # This will raise a TypeError\n"
   ]
  },
  {
   "cell_type": "code",
   "execution_count": null,
   "id": "ce8873f1-46dc-4c61-9f4d-33ba9706a4a3",
   "metadata": {},
   "outputs": [],
   "source": []
  },
  {
   "cell_type": "markdown",
   "id": "b0443ba0-c744-42a0-ac6b-7ded82701b94",
   "metadata": {},
   "source": [
    "### Q6) describe the use case of tuple and set in python programming"
   ]
  },
  {
   "cell_type": "code",
   "execution_count": 9,
   "id": "7eb49b66-efaa-4c36-a5a9-f3d638b33d49",
   "metadata": {},
   "outputs": [
    {
     "name": "stdout",
     "output_type": "stream",
     "text": [
      "(225, 555, 777)\n",
      "{1, 66, 5, 6, 8, 9}\n",
      "False\n",
      "{2}\n"
     ]
    }
   ],
   "source": [
    "'''Tuples\n",
    "Immutable Data Storage: Store fixed data.\n",
    "Dictionary Keys: Use as keys in dictionaries.\n",
    "Sets\n",
    "Unique Element Storage: Remove duplicates.\n",
    ": Check if an element exists.\n",
    "Set Operations: Perform union, intersection, etc.\n",
    "'''\n",
    "\n",
    "emp_id=(225,555,777)\n",
    "\n",
    "sett={1,5,5,5,9,8,66,6,66,}\n",
    "\n",
    "common_elements = {1, 2} & {2, 3}\n",
    "\n",
    "print(emp_id)\n",
    "print(sett)\n",
    "print(888 in sett)\n",
    "print(common_elements)\n"
   ]
  },
  {
   "cell_type": "code",
   "execution_count": null,
   "id": "964b73fc-cd75-4569-8da4-cbe539aade52",
   "metadata": {},
   "outputs": [],
   "source": []
  },
  {
   "cell_type": "markdown",
   "id": "2ffc1c4b-74fb-4755-9142-37dbce310ffc",
   "metadata": {},
   "source": [
    "### Q7) Describe how to add, modify and delete items in dictionary with examples"
   ]
  },
  {
   "cell_type": "code",
   "execution_count": 10,
   "id": "e773bb61-9319-4ea1-8519-b8349994ecee",
   "metadata": {},
   "outputs": [
    {
     "name": "stdout",
     "output_type": "stream",
     "text": [
      "{'key1': 'value1'}\n",
      "{'key1': 'value1', 'key2': 'value2', 'key3': 'value3'}\n",
      "{'key1': 'new_value1', 'key2': 'value2'}\n",
      "value1\n",
      "{'key2': 'value2'}\n"
     ]
    }
   ],
   "source": [
    "#add\n",
    "my_dict = {}\n",
    "\n",
    "my_dict['key1'] = 'value1'\n",
    "print(my_dict) \n",
    "\n",
    "my_dict.update({'key2': 'value2', 'key3': 'value3'})\n",
    "print(my_dict)  \n",
    "\n",
    "#Modify\n",
    "my_dict = {'key1': 'value1', 'key2': 'value2'}\n",
    "\n",
    "my_dict['key1'] = 'new_value1'\n",
    "print(my_dict) \n",
    "\n",
    "#delete\n",
    "my_dict = {'key1': 'value1', 'key2': 'value2'}\n",
    "\n",
    "value = my_dict.pop('key1')\n",
    "print(value) \n",
    "print(my_dict)  \n",
    "\n"
   ]
  },
  {
   "cell_type": "code",
   "execution_count": null,
   "id": "b422b978-35ba-48ea-9817-4c4424918bf2",
   "metadata": {},
   "outputs": [],
   "source": []
  },
  {
   "cell_type": "markdown",
   "id": "9a6342b3-3dae-4f93-8eb9-2ef831d035d3",
   "metadata": {},
   "source": [
    "### Q8)Discuss the importance of dictionary key being immutable and provide examples"
   ]
  },
  {
   "cell_type": "code",
   "execution_count": 4,
   "id": "c2c98ad0-4550-4b0c-b6c0-cf3dec07261e",
   "metadata": {},
   "outputs": [
    {
     "name": "stdout",
     "output_type": "stream",
     "text": [
      "{'key1': 'new_value1', 'key2': 'value2'}\n",
      "value1\n",
      "Alice\n",
      "[85, 90, 92]\n"
     ]
    }
   ],
   "source": [
    "'''Uniqueness: Each key must be unique, ensuring distinct key-value pairs.\n",
    "Immutability: Keys must be immutable types (e.g., strings, numbers, tuples) to maintain consistent hash values.\n",
    "Efficient Data Retrieval: Dictionaries offer fast lookups, insertions, and deletions due to their hash table structure.\n",
    "Data Organization: Keys help organize and access data logically, like storing a student’s information.\n",
    "Flexibility: Dictionaries can store complex data types and nested dictionaries, allowing for versatile data structures.'''\n",
    "\n",
    "dic = {'key1': 'value1', 'key2': 'value2'}\n",
    "# Adding a duplicate key will overwrite the existing value\n",
    "dic['key1'] = 'new_value1'\n",
    "print(dic)  \n",
    "\n",
    "# Valid keys\n",
    "dic = {1: 'one', 'two': 2, (3, 4): 'tuple'}\n",
    "\n",
    "# Invalid key (list is mutable)\n",
    "dic = {'key1': 'value1', 'key2': 'value2'}\n",
    "print(dic['key1'])  \n",
    "\n",
    "student = {'name': 'Alice', 'age': 21, 'grades': [85, 90, 92]}\n",
    "print(student['name'])  \n",
    "print(student['grades'])  \n"
   ]
  },
  {
   "cell_type": "code",
   "execution_count": null,
   "id": "6e2d2a95-7a62-4bd9-84a3-be3e59c23737",
   "metadata": {},
   "outputs": [],
   "source": []
  }
 ],
 "metadata": {
  "kernelspec": {
   "display_name": "Python 3 (ipykernel)",
   "language": "python",
   "name": "python3"
  },
  "language_info": {
   "codemirror_mode": {
    "name": "ipython",
    "version": 3
   },
   "file_extension": ".py",
   "mimetype": "text/x-python",
   "name": "python",
   "nbconvert_exporter": "python",
   "pygments_lexer": "ipython3",
   "version": "3.10.8"
  }
 },
 "nbformat": 4,
 "nbformat_minor": 5
}
